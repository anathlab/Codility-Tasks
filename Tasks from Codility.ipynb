{
 "cells": [
  {
   "cell_type": "markdown",
   "id": "4fc89ea1",
   "metadata": {},
   "source": [
    "<h3> Binary Gap </h3>\n",
    "\n",
    "A binary gap within a positive integer N is any maximal sequence of consecutive zeros that is surrounded by ones at both ends in the binary representation of N.\n",
    "\n",
    "For example, number 9 has binary representation 1001 and contains a binary gap of length 2. The number 529 has binary representation 1000010001 and contains two binary gaps: one of length 4 and one of length 3. The number 20 has binary representation 10100 and contains one binary gap of length 1. The number 15 has binary representation 1111 and has no binary gaps. The number 32 has binary representation 100000 and has no binary gaps.\n",
    "\n",
    "Write a function:\n",
    "\n",
    "class Solution { public int solution(int N); }\n",
    "\n",
    "that, given a positive integer N, returns the length of its longest binary gap. The function should return 0 if N doesn't contain a binary gap.\n",
    "\n",
    "For example, given N = 1041 the function should return 5, because N has binary representation 10000010001 and so its longest binary gap is of length 5. Given N = 32 the function should return 0, because N has binary representation '100000' and thus no binary gaps.\n",
    "\n",
    "Write an efficient algorithm for the following assumptions:\n",
    "\n",
    "N is an integer within the range [1..2,147,483,647].\n"
   ]
  },
  {
   "cell_type": "code",
   "execution_count": 1,
   "id": "f46901e0",
   "metadata": {},
   "outputs": [
    {
     "name": "stdout",
     "output_type": "stream",
     "text": [
      "101001000\n"
     ]
    }
   ],
   "source": [
    "N = 328\n",
    "temp = \"{0:b}\".format(N);\n",
    "print(temp)"
   ]
  },
  {
   "cell_type": "markdown",
   "id": "0a23a9dc",
   "metadata": {},
   "source": [
    "#example one, all ones\n",
    "<br>\n",
    "N = 15 = 1111\n",
    "<br>\n",
    "#example two, start with one \n",
    "<br>\n",
    "N = 1041 = 10000010001\n",
    "<br>\n",
    "#example tree, all zeros\n",
    "<br>\n",
    "N = 32 = 100000\n",
    "<br>\n",
    "#example four, start with zero\n",
    "<br>\n",
    "N = 84 = 1010100\n"
   ]
  },
  {
   "cell_type": "code",
   "execution_count": 2,
   "id": "8cf251ff",
   "metadata": {},
   "outputs": [],
   "source": [
    "def solution(N):\n",
    "    binaryGapsLength = [0];\n",
    "    binaryGapsRange = [];\n",
    "    binary = \"{0:b}\".format(N);\n",
    "    last = len(binary);\n",
    "    for i in range(last):\n",
    "        if binary[i] == '1':\n",
    "            binaryGapsRange.append(i)\n",
    "    for i in range(len(binaryGapsRange)-1,0,-1):\n",
    "        binaryGapsLength.append((binaryGapsRange[i]-binaryGapsRange[i-1])-1)\n",
    "    return max(binaryGapsLength)\n",
    "    if (len(binaryGapsRange)-1) ==last | (len(binaryGapsRange))==1:\n",
    "        return 0\n",
    "    if (binaryGapsRange[0] == 0) & ((len(binaryGapsRange)==1)):\n",
    "        return 0"
   ]
  },
  {
   "cell_type": "code",
   "execution_count": 3,
   "id": "042e0635",
   "metadata": {},
   "outputs": [
    {
     "data": {
      "text/plain": [
       "5"
      ]
     },
     "execution_count": 3,
     "metadata": {},
     "output_type": "execute_result"
    }
   ],
   "source": [
    "solution(1041)"
   ]
  }
 ],
 "metadata": {
  "kernelspec": {
   "display_name": "Python 3 (ipykernel)",
   "language": "python",
   "name": "python3"
  },
  "language_info": {
   "codemirror_mode": {
    "name": "ipython",
    "version": 3
   },
   "file_extension": ".py",
   "mimetype": "text/x-python",
   "name": "python",
   "nbconvert_exporter": "python",
   "pygments_lexer": "ipython3",
   "version": "3.9.7"
  }
 },
 "nbformat": 4,
 "nbformat_minor": 5
}
